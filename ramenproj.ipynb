{
 "cells": [
  {
   "cell_type": "raw",
   "id": "2e2a67cc",
   "metadata": {},
   "source": [
    "The second pratical work deals with problem of classification of a dataset referring to the ramen Ratings through some characteristics presented \n",
    " steps:\n",
    " - Import Libraries\n",
    " - Upload the datset\n",
    " - Data exploration\n",
    " - Data Preparation\n",
    " - First Model Logistic Regression\n",
    " - Second Model Decision Tree"
   ]
  },
  {
   "cell_type": "markdown",
   "id": "6f270e10",
   "metadata": {},
   "source": [
    "# Librarys"
   ]
  },
  {
   "cell_type": "code",
   "execution_count": 303,
   "id": "ca1cc89f",
   "metadata": {},
   "outputs": [],
   "source": [
    "import pandas as pd\n",
    "import numpy as np\n",
    "import matplotlib.pyplot as plt\n",
    "import sklearn \n",
    "import seaborn as sns\n",
    "from sklearn.tree import DecisionTreeClassifier, DecisionTreeRegressor\n",
    "from sklearn.model_selection import train_test_split\n",
    "from sklearn.linear_model import LogisticRegression\n",
    "from sklearn import preprocessing\n",
    "from sklearn.metrics import classification_report, plot_confusion_matrix\n",
    "from sklearn.preprocessing import StandardScaler\n",
    "from sklearn.preprocessing import MinMaxScaler\n",
    "from scipy.interpolate import make_interp_spline, BSpline\n",
    "from sklearn.metrics import confusion_matrix\n",
    "from sklearn.metrics import recall_score\n",
    "from sklearn.metrics import accuracy_score\n",
    "from sklearn.metrics import precision_score\n",
    "from sklearn.metrics import roc_auc_score\n",
    "from sklearn.metrics import f1_score\n",
    "from sklearn.metrics import fbeta_score\n",
    "from sklearn.model_selection import cross_val_score\n",
    "from sklearn.metrics import mean_absolute_error\n",
    "from sklearn.metrics import mean_squared_error\n",
    "from sklearn.model_selection import GridSearchCV"
   ]
  },
  {
   "cell_type": "markdown",
   "id": "928e1725",
   "metadata": {},
   "source": [
    "# Upload the Dataset"
   ]
  },
  {
   "cell_type": "code",
   "execution_count": 193,
   "id": "e78db0a2",
   "metadata": {},
   "outputs": [],
   "source": [
    "df= pd.read_csv('C:/Users/hp/OneDrive/Documentos/DAA/DAAProject/ramen-ratings.csv')"
   ]
  },
  {
   "cell_type": "markdown",
   "id": "9674f8c3",
   "metadata": {},
   "source": [
    "# Data Exploration"
   ]
  },
  {
   "cell_type": "code",
   "execution_count": 194,
   "id": "4f7d1da6",
   "metadata": {},
   "outputs": [
    {
     "data": {
      "text/html": [
       "<div>\n",
       "<style scoped>\n",
       "    .dataframe tbody tr th:only-of-type {\n",
       "        vertical-align: middle;\n",
       "    }\n",
       "\n",
       "    .dataframe tbody tr th {\n",
       "        vertical-align: top;\n",
       "    }\n",
       "\n",
       "    .dataframe thead th {\n",
       "        text-align: right;\n",
       "    }\n",
       "</style>\n",
       "<table border=\"1\" class=\"dataframe\">\n",
       "  <thead>\n",
       "    <tr style=\"text-align: right;\">\n",
       "      <th></th>\n",
       "      <th>Review #</th>\n",
       "      <th>Brand</th>\n",
       "      <th>Variety</th>\n",
       "      <th>Style</th>\n",
       "      <th>Country</th>\n",
       "      <th>Stars</th>\n",
       "      <th>Top Ten</th>\n",
       "    </tr>\n",
       "  </thead>\n",
       "  <tbody>\n",
       "    <tr>\n",
       "      <th>0</th>\n",
       "      <td>2580</td>\n",
       "      <td>New Touch</td>\n",
       "      <td>T's Restaurant Tantanmen</td>\n",
       "      <td>Cup</td>\n",
       "      <td>Japan</td>\n",
       "      <td>3.75</td>\n",
       "      <td>NaN</td>\n",
       "    </tr>\n",
       "    <tr>\n",
       "      <th>1</th>\n",
       "      <td>2579</td>\n",
       "      <td>Just Way</td>\n",
       "      <td>Noodles Spicy Hot Sesame Spicy Hot Sesame Guan...</td>\n",
       "      <td>Pack</td>\n",
       "      <td>Taiwan</td>\n",
       "      <td>1</td>\n",
       "      <td>NaN</td>\n",
       "    </tr>\n",
       "    <tr>\n",
       "      <th>2</th>\n",
       "      <td>2578</td>\n",
       "      <td>Nissin</td>\n",
       "      <td>Cup Noodles Chicken Vegetable</td>\n",
       "      <td>Cup</td>\n",
       "      <td>USA</td>\n",
       "      <td>2.25</td>\n",
       "      <td>NaN</td>\n",
       "    </tr>\n",
       "    <tr>\n",
       "      <th>3</th>\n",
       "      <td>2577</td>\n",
       "      <td>Wei Lih</td>\n",
       "      <td>GGE Ramen Snack Tomato Flavor</td>\n",
       "      <td>Pack</td>\n",
       "      <td>Taiwan</td>\n",
       "      <td>2.75</td>\n",
       "      <td>NaN</td>\n",
       "    </tr>\n",
       "    <tr>\n",
       "      <th>4</th>\n",
       "      <td>2576</td>\n",
       "      <td>Ching's Secret</td>\n",
       "      <td>Singapore Curry</td>\n",
       "      <td>Pack</td>\n",
       "      <td>India</td>\n",
       "      <td>3.75</td>\n",
       "      <td>NaN</td>\n",
       "    </tr>\n",
       "  </tbody>\n",
       "</table>\n",
       "</div>"
      ],
      "text/plain": [
       "   Review #           Brand  \\\n",
       "0      2580       New Touch   \n",
       "1      2579        Just Way   \n",
       "2      2578          Nissin   \n",
       "3      2577         Wei Lih   \n",
       "4      2576  Ching's Secret   \n",
       "\n",
       "                                             Variety Style Country Stars  \\\n",
       "0                          T's Restaurant Tantanmen    Cup   Japan  3.75   \n",
       "1  Noodles Spicy Hot Sesame Spicy Hot Sesame Guan...  Pack  Taiwan     1   \n",
       "2                      Cup Noodles Chicken Vegetable   Cup     USA  2.25   \n",
       "3                      GGE Ramen Snack Tomato Flavor  Pack  Taiwan  2.75   \n",
       "4                                    Singapore Curry  Pack   India  3.75   \n",
       "\n",
       "  Top Ten  \n",
       "0     NaN  \n",
       "1     NaN  \n",
       "2     NaN  \n",
       "3     NaN  \n",
       "4     NaN  "
      ]
     },
     "execution_count": 194,
     "metadata": {},
     "output_type": "execute_result"
    }
   ],
   "source": [
    "df.head()"
   ]
  },
  {
   "cell_type": "code",
   "execution_count": 195,
   "id": "6f1c4622",
   "metadata": {},
   "outputs": [
    {
     "name": "stdout",
     "output_type": "stream",
     "text": [
      "<class 'pandas.core.frame.DataFrame'>\n",
      "RangeIndex: 2580 entries, 0 to 2579\n",
      "Data columns (total 7 columns):\n",
      " #   Column    Non-Null Count  Dtype \n",
      "---  ------    --------------  ----- \n",
      " 0   Review #  2580 non-null   int64 \n",
      " 1   Brand     2580 non-null   object\n",
      " 2   Variety   2580 non-null   object\n",
      " 3   Style     2578 non-null   object\n",
      " 4   Country   2580 non-null   object\n",
      " 5   Stars     2580 non-null   object\n",
      " 6   Top Ten   41 non-null     object\n",
      "dtypes: int64(1), object(6)\n",
      "memory usage: 141.2+ KB\n"
     ]
    }
   ],
   "source": [
    "df.info()"
   ]
  },
  {
   "cell_type": "code",
   "execution_count": 197,
   "id": "392f37b5",
   "metadata": {},
   "outputs": [
    {
     "data": {
      "text/html": [
       "<div>\n",
       "<style scoped>\n",
       "    .dataframe tbody tr th:only-of-type {\n",
       "        vertical-align: middle;\n",
       "    }\n",
       "\n",
       "    .dataframe tbody tr th {\n",
       "        vertical-align: top;\n",
       "    }\n",
       "\n",
       "    .dataframe thead th {\n",
       "        text-align: right;\n",
       "    }\n",
       "</style>\n",
       "<table border=\"1\" class=\"dataframe\">\n",
       "  <thead>\n",
       "    <tr style=\"text-align: right;\">\n",
       "      <th></th>\n",
       "      <th>Review #</th>\n",
       "      <th>Brand</th>\n",
       "      <th>Variety</th>\n",
       "      <th>Style</th>\n",
       "      <th>Country</th>\n",
       "      <th>Stars</th>\n",
       "      <th>Top Ten</th>\n",
       "    </tr>\n",
       "  </thead>\n",
       "  <tbody>\n",
       "    <tr>\n",
       "      <th>count</th>\n",
       "      <td>2580.000000</td>\n",
       "      <td>2580</td>\n",
       "      <td>2580</td>\n",
       "      <td>2578</td>\n",
       "      <td>2580</td>\n",
       "      <td>2580</td>\n",
       "      <td>41</td>\n",
       "    </tr>\n",
       "    <tr>\n",
       "      <th>unique</th>\n",
       "      <td>NaN</td>\n",
       "      <td>355</td>\n",
       "      <td>2413</td>\n",
       "      <td>7</td>\n",
       "      <td>38</td>\n",
       "      <td>51</td>\n",
       "      <td>38</td>\n",
       "    </tr>\n",
       "    <tr>\n",
       "      <th>top</th>\n",
       "      <td>NaN</td>\n",
       "      <td>Nissin</td>\n",
       "      <td>Beef</td>\n",
       "      <td>Pack</td>\n",
       "      <td>Japan</td>\n",
       "      <td>4</td>\n",
       "      <td>\\n</td>\n",
       "    </tr>\n",
       "    <tr>\n",
       "      <th>freq</th>\n",
       "      <td>NaN</td>\n",
       "      <td>381</td>\n",
       "      <td>7</td>\n",
       "      <td>1531</td>\n",
       "      <td>352</td>\n",
       "      <td>384</td>\n",
       "      <td>4</td>\n",
       "    </tr>\n",
       "    <tr>\n",
       "      <th>mean</th>\n",
       "      <td>1290.500000</td>\n",
       "      <td>NaN</td>\n",
       "      <td>NaN</td>\n",
       "      <td>NaN</td>\n",
       "      <td>NaN</td>\n",
       "      <td>NaN</td>\n",
       "      <td>NaN</td>\n",
       "    </tr>\n",
       "    <tr>\n",
       "      <th>std</th>\n",
       "      <td>744.926171</td>\n",
       "      <td>NaN</td>\n",
       "      <td>NaN</td>\n",
       "      <td>NaN</td>\n",
       "      <td>NaN</td>\n",
       "      <td>NaN</td>\n",
       "      <td>NaN</td>\n",
       "    </tr>\n",
       "    <tr>\n",
       "      <th>min</th>\n",
       "      <td>1.000000</td>\n",
       "      <td>NaN</td>\n",
       "      <td>NaN</td>\n",
       "      <td>NaN</td>\n",
       "      <td>NaN</td>\n",
       "      <td>NaN</td>\n",
       "      <td>NaN</td>\n",
       "    </tr>\n",
       "    <tr>\n",
       "      <th>25%</th>\n",
       "      <td>645.750000</td>\n",
       "      <td>NaN</td>\n",
       "      <td>NaN</td>\n",
       "      <td>NaN</td>\n",
       "      <td>NaN</td>\n",
       "      <td>NaN</td>\n",
       "      <td>NaN</td>\n",
       "    </tr>\n",
       "    <tr>\n",
       "      <th>50%</th>\n",
       "      <td>1290.500000</td>\n",
       "      <td>NaN</td>\n",
       "      <td>NaN</td>\n",
       "      <td>NaN</td>\n",
       "      <td>NaN</td>\n",
       "      <td>NaN</td>\n",
       "      <td>NaN</td>\n",
       "    </tr>\n",
       "    <tr>\n",
       "      <th>75%</th>\n",
       "      <td>1935.250000</td>\n",
       "      <td>NaN</td>\n",
       "      <td>NaN</td>\n",
       "      <td>NaN</td>\n",
       "      <td>NaN</td>\n",
       "      <td>NaN</td>\n",
       "      <td>NaN</td>\n",
       "    </tr>\n",
       "    <tr>\n",
       "      <th>max</th>\n",
       "      <td>2580.000000</td>\n",
       "      <td>NaN</td>\n",
       "      <td>NaN</td>\n",
       "      <td>NaN</td>\n",
       "      <td>NaN</td>\n",
       "      <td>NaN</td>\n",
       "      <td>NaN</td>\n",
       "    </tr>\n",
       "  </tbody>\n",
       "</table>\n",
       "</div>"
      ],
      "text/plain": [
       "           Review #   Brand Variety Style Country Stars Top Ten\n",
       "count   2580.000000    2580    2580  2578    2580  2580      41\n",
       "unique          NaN     355    2413     7      38    51      38\n",
       "top             NaN  Nissin    Beef  Pack   Japan     4      \\n\n",
       "freq            NaN     381       7  1531     352   384       4\n",
       "mean    1290.500000     NaN     NaN   NaN     NaN   NaN     NaN\n",
       "std      744.926171     NaN     NaN   NaN     NaN   NaN     NaN\n",
       "min        1.000000     NaN     NaN   NaN     NaN   NaN     NaN\n",
       "25%      645.750000     NaN     NaN   NaN     NaN   NaN     NaN\n",
       "50%     1290.500000     NaN     NaN   NaN     NaN   NaN     NaN\n",
       "75%     1935.250000     NaN     NaN   NaN     NaN   NaN     NaN\n",
       "max     2580.000000     NaN     NaN   NaN     NaN   NaN     NaN"
      ]
     },
     "execution_count": 197,
     "metadata": {},
     "output_type": "execute_result"
    }
   ],
   "source": [
    "df.describe(include='all')"
   ]
  },
  {
   "cell_type": "raw",
   "id": "7ee7ebf1",
   "metadata": {},
   "source": [
    "Missing Data"
   ]
  },
  {
   "cell_type": "code",
   "execution_count": 198,
   "id": "4532838d",
   "metadata": {},
   "outputs": [
    {
     "data": {
      "text/plain": [
       "Review #    False\n",
       "Brand       False\n",
       "Variety     False\n",
       "Style        True\n",
       "Country     False\n",
       "Stars       False\n",
       "Top Ten      True\n",
       "dtype: bool"
      ]
     },
     "execution_count": 198,
     "metadata": {},
     "output_type": "execute_result"
    }
   ],
   "source": [
    "df.isna().any()"
   ]
  },
  {
   "cell_type": "markdown",
   "id": "d66a42e8",
   "metadata": {},
   "source": [
    "# Data Preparation"
   ]
  },
  {
   "cell_type": "code",
   "execution_count": 199,
   "id": "4248f9bf",
   "metadata": {},
   "outputs": [
    {
     "data": {
      "text/plain": [
       "Review #       0\n",
       "Brand          0\n",
       "Variety        0\n",
       "Style          2\n",
       "Country        0\n",
       "Stars          0\n",
       "Top Ten     2539\n",
       "dtype: int64"
      ]
     },
     "execution_count": 199,
     "metadata": {},
     "output_type": "execute_result"
    }
   ],
   "source": [
    "df.isna().sum()"
   ]
  },
  {
   "cell_type": "code",
   "execution_count": 200,
   "id": "6a9bc529",
   "metadata": {},
   "outputs": [
    {
     "data": {
      "text/plain": [
       "array(['New Touch', 'Just Way', 'Nissin', 'Wei Lih', \"Ching's Secret\",\n",
       "       'Samyang Foods', 'Acecook', 'Ikeda Shoku', \"Ripe'n'Dry\", 'KOKA',\n",
       "       'Tao Kae Noi', 'Yamachan', 'Nongshim', 'TRDP', 'Binh Tay', 'Paldo',\n",
       "       'Jackpot Teriyaki', 'Yum-Mie', 'MyKuali', 'Ottogi',\n",
       "       'Sichuan Guangyou', 'Lipton', 'Lele', 'Fujiwara', 'Uni-President',\n",
       "       'Maruchan', 'Prima', 'Sokensha', 'Takamori', 'Guava Story',\n",
       "       'Samurai Ramen', 'Ogasawara', 'Pringles', \"Mom's Dry Noodle\",\n",
       "       'Maggi', 'Indomie', 'Happy Cook', 'The Ramen Rater Select', 'TTL',\n",
       "       'E-Zee', 'Kiki Noodle', 'Tokyo Noodle', 'GGE', 'Myojo', 'Sau Tao',\n",
       "       'Wang', 'Daifuku', 'Master Kong', \"World O' Noodle\", 'Kang Shi Fu',\n",
       "       'Mum Ngon', 'Fashion Food', 'Dream Kitchen', 'Ajinatori',\n",
       "       \"Dr. McDougall's\", 'Ve Wong', 'Super Bihun', 'Xiuhe',\n",
       "       'Little Cook', 'Shirakiku', \"Mama Pat's\", 'Goku-Uma',\n",
       "       'Sichuan Baijia', 'Liang Cheng Mai', 'Gefen', 'Hua Feng',\n",
       "       'Pulmuone', 'Liu Quan', 'Daikoku', 'Chuan Wei Wang', 'Wai Wai',\n",
       "       'Kamfen', 'Marutai', 'Vifon', '1 To 3 Noodles', 'Fantastic',\n",
       "       'Knorr', 'Sempio', 'Patanjali', 'Qin Zong', 'Pran',\n",
       "       'Sapporo Ichiban', 'MAMA', 'Xiao Ban Mian', 'Suimin', 'Cintan',\n",
       "       'JML', 'Unif Tung-I', 'Tablemark', \"Farmer's Heart\", 'Fuku',\n",
       "       'Singa-Me', 'Love Cook', 'Great Value', 'Asian Thai Foods',\n",
       "       'Nagatanien', 'Nyor Nyar', 'Tseng Noodles', 'A-Sha Dry Noodle',\n",
       "       'Morre', 'Roland', \"Mr. Lee's Noodles\", 'Choumama',\n",
       "       'President Rice', 'Happy Family', 'Menraku', 'La Moderna',\n",
       "       'Jingqi', 'Thien Houng Foods', 'Doll', 'Four Seas', 'CarJEN',\n",
       "       '7 Select', 'Oni Hot Pot', 'Weh Lih', 'Itomen', 'Sanpo',\n",
       "       'Mi Sedaap', 'Tokushima Seifun', 'Mamee', 'Zow Zow', 'Koyo',\n",
       "       'ORee Garden', 'A1', 'Migawon', \"Chaudhary's Wai Wai\",\n",
       "       'Urban Noodle', 'Trident', 'Conimex', 'Prima Taste', 'MyOri',\n",
       "       'Itsuki', 'Kabuto Noodles', 'IbuRamen', 'Koh Thai', 'Bamee',\n",
       "       'Ibumie', 'Unox', 'Fortune', 'Bonasia', 'Mie Sedaap', 'iMee',\n",
       "       'Thai Smile', 'Asia Gold', 'Pirkka', 'Higashimaru', 'Kuriki',\n",
       "       'Vedan', 'Yum Yum', 'Mama', 'Baijia', 'Daraz', 'Pama', 'Seven & I',\n",
       "       'Forest Noodles', \"Vit's\", 'Ten-In', 'Sugakiya Foods', 'Hao Way',\n",
       "       'Nakaya Shouten', 'Thai Chef', 'Crystal Noodle', 'Azami', 'Super',\n",
       "       'Torishi', 'Western Family', 'Chering Chang', 'Ishimaru',\n",
       "       'Authentically Asian', 'Aroi', 'Koka', 'Wu-Mu', 'Yamadai',\n",
       "       'Vina Acecook', 'Baixiang Noodles', 'Salam Mie', 'Lee Fah Mee',\n",
       "       'Sakurai Foods', 'The Kitchen Food', 'Premiere', '7 Select/Nissin',\n",
       "       'Wugudaochang', 'Emart', 'Lishan Food Manufacturing', 'Ah Lai',\n",
       "       'Tropicana Slim', 'A-One', 'Deshome', 'Paldo Vina', 'Chencun',\n",
       "       'United', 'ChoripDong', 'Shan', 'Ruski', 'No Name', 'New Way',\n",
       "       'Lucky Me!', \"Campbell's\", 'One Dish Asia', 'Long Jun Hang',\n",
       "       'Unif-100', 'Hankow', 'The Bridge', 'Mitoku', 'Unzen', 'Uncle Sun',\n",
       "       'Mi E-Zee', 'E-mi', 'J.J.', 'Curry Prince', 'Econsave', 'Oyatsu',\n",
       "       'Kin-Dee', 'Ko-Lee', 'ICA', 'Nanyang Chef', 'Thai Pavilion',\n",
       "       'Miliket', 'Katoz', 'Men-Sunaoshi', 'Chewy', 'Adabi',\n",
       "       'Osaka Ramen', \"Sainsbury's\", 'Pamana', \"Annie Chun's\", 'La Fonte',\n",
       "       'Thai Choice', 'Tesco', 'Pop Bihun', 'Snapdragon', 'Saji',\n",
       "       'Miracle Noodle', 'Tiger Tiger', 'Takamori Kosan', 'Papa',\n",
       "       'Sawadee', 'Golden Wheat', 'Lotus Foods', 'Plats Du Chef',\n",
       "       'Batchelors', 'Sakura Noodle', 'Unif', 'Hi-Myon', 'Healtimie',\n",
       "       'Thai Kitchen', 'Mr. Noodles', 'Good Tto Leu Foods', 'GaGa',\n",
       "       'Kimura', 'Tokachimen Koubou', 'ABC', 'Eat & Go', 'President',\n",
       "       'SuperMi', 'Kumamoto', 'HoMyeonDang', 'Nan Jie Cun', 'China Best',\n",
       "       'Sanrio', 'Peyang', 'Golden Wonder', 'Komforte Chockolates',\n",
       "       'Nagao Noodle', 'Maitri', 'GS25', 'Baltix', 'Amianda',\n",
       "       'Tasty Bite', 'Star Anise Foods', 'Tradition', 'Amino',\n",
       "       'Pot Noodle', 'Sun Noodle', 'S&S', 'Springlife', 'Right Foods',\n",
       "       'Sunlee', 'Goku Uma', 'Daddy', \"Han's South Korea\", 'Sarimi',\n",
       "       'FMF', 'Long Kow', 'Unif / Tung-I', 'Song Hak', 'Fuji Mengyo',\n",
       "       'Dragonfly', 'CJ CheilJedang', 'Dongwon', 'Seven-Eleven', 'Souper',\n",
       "       \"Kim's Bowl\", 'Ohsung', 'Gau Do', 'Golden Mie', 'GreeNoodle',\n",
       "       'Kailo', 'Fashion Foods', 'Hosoonyi', 'Payless', 'Yamamoto',\n",
       "       'Saigon Ve Wong', 'Wu Mu', 'Mee Jang', 'JFC', 'Samyang',\n",
       "       'Mug Shot', 'Lishan', 'Cap Atoom Bulan', 'Sura', 'Wei Chuan',\n",
       "       'Yamamori', 'Mr. Udon', 'Omachi', 'Wei Wei', 'Six Fortune',\n",
       "       'Haioreum', 'Sunlight', 'Noah Foods', 'O Sung', 'Foodmon',\n",
       "       'Sahmyook', 'Nan Hsing', 'Mexi-Ramen', 'Hsin Tung Yang', 'Sao Tao',\n",
       "       'iNoodle', 'Quickchow', 'Chikara', 'Q', 'Noodle Time', 'Gomex',\n",
       "       'US Canning', 'Rhee Bros Assi', 'Bon Go Jang', 'Tayho',\n",
       "       'Sunny Maid', 'Royal Umbrella', 'Tiger',\n",
       "       'Fu Chang Chinese Noodle Company', 'Sanyo Foods', 'Rocket Brand',\n",
       "       'Boss', 'Chorip Dong', 'Higashi', 'Sakurai', 'Global Inspiration',\n",
       "       'Teriyaki Time', 'Hua Feng Noodle Expert', 'Kim Ve Wong', 'Smack',\n",
       "       'Sutah', 'Tung-I', 'Westbrae'], dtype=object)"
      ]
     },
     "execution_count": 200,
     "metadata": {},
     "output_type": "execute_result"
    }
   ],
   "source": [
    "#print(df['Brand'])\n",
    "df['Brand'].unique()"
   ]
  },
  {
   "cell_type": "code",
   "execution_count": 201,
   "id": "08d2edf4",
   "metadata": {},
   "outputs": [],
   "source": [
    "df['Brand']= df['Brand'].replace(['New Touch', 'Just Way', 'Nissin', 'Wei Lih', \"Ching's Secret\",\n",
    "       'Samyang Foods', 'Acecook', 'Ikeda Shoku', \"Ripe'n'Dry\", 'KOKA',\n",
    "       'Tao Kae Noi', 'Yamachan', 'Nongshim', 'TRDP', 'Binh Tay', 'Paldo',\n",
    "       'Jackpot Teriyaki', 'Yum-Mie', 'MyKuali', 'Ottogi',\n",
    "       'Sichuan Guangyou', 'Lipton', 'Lele', 'Fujiwara', 'Uni-President',\n",
    "       'Maruchan', 'Prima', 'Sokensha', 'Takamori', 'Guava Story',\n",
    "       'Samurai Ramen', 'Ogasawara', 'Pringles', \"Mom's Dry Noodle\",\n",
    "       'Maggi', 'Indomie', 'Happy Cook', 'The Ramen Rater Select', 'TTL',\n",
    "       'E-Zee', 'Kiki Noodle', 'Tokyo Noodle', 'GGE', 'Myojo', 'Sau Tao',\n",
    "       'Wang', 'Daifuku', 'Master Kong', \"World O' Noodle\", 'Kang Shi Fu',\n",
    "       'Mum Ngon', 'Fashion Food', 'Dream Kitchen', 'Ajinatori',\n",
    "       \"Dr. McDougall's\", 'Ve Wong', 'Super Bihun', 'Xiuhe',\n",
    "       'Little Cook', 'Shirakiku', \"Mama Pat's\", 'Goku-Uma',\n",
    "       'Sichuan Baijia', 'Liang Cheng Mai', 'Gefen', 'Hua Feng',\n",
    "       'Pulmuone', 'Liu Quan', 'Daikoku', 'Chuan Wei Wang', 'Wai Wai',\n",
    "       'Kamfen', 'Marutai', 'Vifon', '1 To 3 Noodles', 'Fantastic',\n",
    "       'Knorr', 'Sempio', 'Patanjali', 'Qin Zong', 'Pran',\n",
    "       'Sapporo Ichiban', 'MAMA', 'Xiao Ban Mian', 'Suimin', 'Cintan',\n",
    "       'JML', 'Unif Tung-I', 'Tablemark', \"Farmer's Heart\", 'Fuku',\n",
    "       'Singa-Me', 'Love Cook', 'Great Value', 'Asian Thai Foods',\n",
    "       'Nagatanien', 'Nyor Nyar', 'Tseng Noodles', 'A-Sha Dry Noodle',\n",
    "       'Morre', 'Roland', \"Mr. Lee's Noodles\", 'Choumama',\n",
    "       'President Rice', 'Happy Family', 'Menraku', 'La Moderna',\n",
    "       'Jingqi', 'Thien Houng Foods', 'Doll', 'Four Seas', 'CarJEN',\n",
    "       '7 Select', 'Oni Hot Pot', 'Weh Lih', 'Itomen', 'Sanpo',\n",
    "       'Mi Sedaap', 'Tokushima Seifun', 'Mamee', 'Zow Zow', 'Koyo',\n",
    "       'ORee Garden', 'A1', 'Migawon', \"Chaudhary's Wai Wai\",\n",
    "       'Urban Noodle', 'Trident', 'Conimex', 'Prima Taste', 'MyOri',\n",
    "       'Itsuki', 'Kabuto Noodles', 'IbuRamen', 'Koh Thai', 'Bamee',\n",
    "       'Ibumie', 'Unox', 'Fortune', 'Bonasia', 'Mie Sedaap', 'iMee',\n",
    "       'Thai Smile', 'Asia Gold', 'Pirkka', 'Higashimaru', 'Kuriki',\n",
    "       'Vedan', 'Yum Yum', 'Mama', 'Baijia', 'Daraz', 'Pama', 'Seven & I',\n",
    "       'Forest Noodles', \"Vit's\", 'Ten-In', 'Sugakiya Foods', 'Hao Way',\n",
    "       'Nakaya Shouten', 'Thai Chef', 'Crystal Noodle', 'Azami', 'Super',\n",
    "       'Torishi', 'Western Family', 'Chering Chang', 'Ishimaru',\n",
    "       'Authentically Asian', 'Aroi', 'Koka', 'Wu-Mu', 'Yamadai',\n",
    "       'Vina Acecook', 'Baixiang Noodles', 'Salam Mie', 'Lee Fah Mee',\n",
    "       'Sakurai Foods', 'The Kitchen Food', 'Premiere', '7 Select/Nissin',\n",
    "       'Wugudaochang', 'Emart', 'Lishan Food Manufacturing', 'Ah Lai',\n",
    "       'Tropicana Slim', 'A-One', 'Deshome', 'Paldo Vina', 'Chencun',\n",
    "       'United', 'ChoripDong', 'Shan', 'Ruski', 'No Name', 'New Way',\n",
    "       'Lucky Me!', \"Campbell's\", 'One Dish Asia', 'Long Jun Hang',\n",
    "       'Unif-100', 'Hankow', 'The Bridge', 'Mitoku', 'Unzen', 'Uncle Sun',\n",
    "       'Mi E-Zee', 'E-mi', 'J.J.', 'Curry Prince', 'Econsave', 'Oyatsu',\n",
    "       'Kin-Dee', 'Ko-Lee', 'ICA', 'Nanyang Chef', 'Thai Pavilion',\n",
    "       'Miliket', 'Katoz', 'Men-Sunaoshi', 'Chewy', 'Adabi',\n",
    "       'Osaka Ramen', \"Sainsbury's\", 'Pamana', \"Annie Chun's\", 'La Fonte',\n",
    "       'Thai Choice', 'Tesco', 'Pop Bihun', 'Snapdragon', 'Saji',\n",
    "       'Miracle Noodle', 'Tiger Tiger', 'Takamori Kosan', 'Papa',\n",
    "       'Sawadee', 'Golden Wheat', 'Lotus Foods', 'Plats Du Chef',\n",
    "       'Batchelors', 'Sakura Noodle', 'Unif', 'Hi-Myon', 'Healtimie',\n",
    "       'Thai Kitchen', 'Mr. Noodles', 'Good Tto Leu Foods', 'GaGa',\n",
    "       'Kimura', 'Tokachimen Koubou', 'ABC', 'Eat & Go', 'President',\n",
    "       'SuperMi', 'Kumamoto', 'HoMyeonDang', 'Nan Jie Cun', 'China Best',\n",
    "       'Sanrio', 'Peyang', 'Golden Wonder', 'Komforte Chockolates',\n",
    "       'Nagao Noodle', 'Maitri', 'GS25', 'Baltix', 'Amianda',\n",
    "       'Tasty Bite', 'Star Anise Foods', 'Tradition', 'Amino',\n",
    "       'Pot Noodle', 'Sun Noodle', 'S&S', 'Springlife', 'Right Foods',\n",
    "       'Sunlee', 'Goku Uma', 'Daddy', \"Han's South Korea\", 'Sarimi',\n",
    "       'FMF', 'Long Kow', 'Unif / Tung-I', 'Song Hak', 'Fuji Mengyo',\n",
    "       'Dragonfly', 'CJ CheilJedang', 'Dongwon', 'Seven-Eleven', 'Souper',\n",
    "       \"Kim's Bowl\", 'Ohsung', 'Gau Do', 'Golden Mie', 'GreeNoodle',\n",
    "       'Kailo', 'Fashion Foods', 'Hosoonyi', 'Payless', 'Yamamoto',\n",
    "       'Saigon Ve Wong', 'Wu Mu', 'Mee Jang', 'JFC', 'Samyang',\n",
    "       'Mug Shot', 'Lishan', 'Cap Atoom Bulan', 'Sura', 'Wei Chuan',\n",
    "       'Yamamori', 'Mr. Udon', 'Omachi', 'Wei Wei', 'Six Fortune',\n",
    "       'Haioreum', 'Sunlight', 'Noah Foods', 'O Sung', 'Foodmon',\n",
    "       'Sahmyook', 'Nan Hsing', 'Mexi-Ramen', 'Hsin Tung Yang', 'Sao Tao',\n",
    "       'iNoodle', 'Quickchow', 'Chikara', 'Q', 'Noodle Time', 'Gomex',\n",
    "       'US Canning', 'Rhee Bros Assi', 'Bon Go Jang', 'Tayho',\n",
    "       'Sunny Maid', 'Royal Umbrella', 'Tiger',\n",
    "       'Fu Chang Chinese Noodle Company', 'Sanyo Foods', 'Rocket Brand',\n",
    "       'Boss', 'Chorip Dong', 'Higashi', 'Sakurai', 'Global Inspiration',\n",
    "       'Teriyaki Time', 'Hua Feng Noodle Expert', 'Kim Ve Wong', 'Smack',\n",
    "       'Sutah', 'Tung-I', 'Westbrae'], [1,2,3,4,5,6,7,8,9,10,11,12,13,14,15,16,17,18,19,20,21,22,23,24,25,26,27,\n",
    "                                       28,29,30,31,32,33,34,35,36,37,38,39,40,41,42,43,44,45,46,47,48,49,50,51,52,\n",
    "                                        53,54,55,56,57,58,59,60,61,62,63,64,65,66,67,68,69,70,71,72,73,74,75,76,77,78,\n",
    "                                       79,80,81,82,83,84,85,86,87,88,89,90,91,92,93,94,95,96,97,98,99,100,101,102,103,\n",
    "                                       104,105,106,107,108,109,110,111,112,113,114,115,116,117,118,119,120,121,122,123,\n",
    "                                        124,125,126,127,128,129,130,131,132,133,134,135,136,137,138,139,140,141,142,143,\n",
    "                                       144,145,146,147,148,149,150,151,152,153,154,155,156,157,158,159,160,161,162,163,164,\n",
    "                                       165,166,167,168,169,170,171,172,173,174,175,176,177,178,179,180,181,182,183,184,185,\n",
    "                                       186,187,188,189,190,191,192,193,194,195,196,197,198,199,200,201,202,203,\n",
    "                                       204,205,206,207,208,209,210,211,212,213,214,215,216,217,218,219,220,221,222,223,\n",
    "                                        224,225,226,227,228,229,230,231,232,233,234,235,236,237,238,239,240,241,242,243,\n",
    "                                       244,245,246,247,248,249,250,251,252,253,254,255,256,257,258,259,260,261,262,263,264,\n",
    "                                       265,266,267,268,269,270,271,272,273,274,275,276,277,278,279,280,281,282,283,284,285,\n",
    "                                       286,287,288,289,290,291,292,293,294,295,296,297,298,299,300,301,302,303,\n",
    "                                       304,305,306,307,308,309,310,311,312,313,314,315,316,317,318,319,320,321,322,323,\n",
    "                                        324,325,326,327,328,329,330,331,332,333,334,335,336,337,338,339,340,341,342,343,\n",
    "                                       344,345,346,347,348,349,350,351,352,353,354,355])"
   ]
  },
  {
   "cell_type": "code",
   "execution_count": 305,
   "id": "8b4df61d",
   "metadata": {},
   "outputs": [
    {
     "name": "stdout",
     "output_type": "stream",
     "text": [
      "0         1\n",
      "1         2\n",
      "2         3\n",
      "3         4\n",
      "4         5\n",
      "       ... \n",
      "2575     74\n",
      "2576     71\n",
      "2577     71\n",
      "2578     71\n",
      "2579    355\n",
      "Name: Brand, Length: 2580, dtype: int64\n"
     ]
    }
   ],
   "source": [
    "print(df['Brand'])"
   ]
  },
  {
   "cell_type": "code",
   "execution_count": 203,
   "id": "fba756d5",
   "metadata": {},
   "outputs": [],
   "source": [
    "values= {'Style': df.Style.mode()[0]}\n",
    "df.fillna(value=values, inplace=True)"
   ]
  },
  {
   "cell_type": "code",
   "execution_count": 204,
   "id": "3d2ab36d",
   "metadata": {},
   "outputs": [
    {
     "data": {
      "text/plain": [
       "array(['Cup', 'Pack', 'Tray', 'Bowl', 'Box', 'Can', 'Bar'], dtype=object)"
      ]
     },
     "execution_count": 204,
     "metadata": {},
     "output_type": "execute_result"
    }
   ],
   "source": [
    "df['Style'].unique()"
   ]
  },
  {
   "cell_type": "code",
   "execution_count": 205,
   "id": "88dcc1ed",
   "metadata": {},
   "outputs": [
    {
     "name": "stdout",
     "output_type": "stream",
     "text": [
      "[1 2 3 4 5 6 7]\n",
      "0       1\n",
      "1       2\n",
      "2       1\n",
      "3       2\n",
      "4       2\n",
      "       ..\n",
      "2575    4\n",
      "2576    2\n",
      "2577    2\n",
      "2578    2\n",
      "2579    2\n",
      "Name: Style, Length: 2580, dtype: int64\n"
     ]
    }
   ],
   "source": [
    "df['Style']= df['Style'].replace(['Cup', 'Pack', 'Tray', 'Bowl', 'Box', 'Can', 'Bar'], [1,2,3,4,5,6,7])\n",
    "print(df['Style'].unique())\n",
    "print(df['Style'])"
   ]
  },
  {
   "cell_type": "code",
   "execution_count": 206,
   "id": "688feb82",
   "metadata": {},
   "outputs": [
    {
     "data": {
      "text/plain": [
       "array(['Japan', 'Taiwan', 'USA', 'India', 'South Korea', 'Singapore',\n",
       "       'Thailand', 'Hong Kong', 'Vietnam', 'Ghana', 'Malaysia',\n",
       "       'Indonesia', 'China', 'Nigeria', 'Germany', 'Hungary', 'Mexico',\n",
       "       'Fiji', 'Australia', 'Pakistan', 'Bangladesh', 'Canada', 'Nepal',\n",
       "       'Brazil', 'UK', 'Myanmar', 'Netherlands', 'United States',\n",
       "       'Cambodia', 'Finland', 'Sarawak', 'Philippines', 'Sweden',\n",
       "       'Colombia', 'Estonia', 'Holland', 'Poland', 'Dubai'], dtype=object)"
      ]
     },
     "execution_count": 206,
     "metadata": {},
     "output_type": "execute_result"
    }
   ],
   "source": [
    "df['Country'].unique()"
   ]
  },
  {
   "cell_type": "code",
   "execution_count": 208,
   "id": "7f70c1cc",
   "metadata": {},
   "outputs": [
    {
     "name": "stdout",
     "output_type": "stream",
     "text": [
      "[ 1  2  3  4  5  6  7  8  9 10 11 12 13 14 15 16 17 18 19 20 21 22 23 24\n",
      " 25 26 27 28 29 30 31 32 33 34 35 36 37 38]\n",
      "0       1\n",
      "1       2\n",
      "2       3\n",
      "3       2\n",
      "4       4\n",
      "       ..\n",
      "2575    9\n",
      "2576    7\n",
      "2577    7\n",
      "2578    7\n",
      "2579    3\n",
      "Name: Country, Length: 2580, dtype: int64\n"
     ]
    }
   ],
   "source": [
    "df['Country']= df['Country'].replace(['Japan', 'Taiwan', 'USA', 'India', 'South Korea', 'Singapore',\n",
    "       'Thailand', 'Hong Kong', 'Vietnam', 'Ghana', 'Malaysia',\n",
    "       'Indonesia', 'China', 'Nigeria', 'Germany', 'Hungary', 'Mexico',\n",
    "       'Fiji', 'Australia', 'Pakistan', 'Bangladesh', 'Canada', 'Nepal',\n",
    "       'Brazil', 'UK', 'Myanmar', 'Netherlands', 'United States',\n",
    "       'Cambodia', 'Finland', 'Sarawak', 'Philippines', 'Sweden',\n",
    "       'Colombia', 'Estonia', 'Holland', 'Poland', 'Dubai'],[1,2,3,4,5,6,7,8,9,10,11,12,13,14,15,16,17,18,19,20,21,22,23,24,25,26,27,28,29,30,31,32,33,34,35,36,37,38])\n",
    "\n",
    "\n",
    "print(df['Country'].unique())\n",
    "print(df['Country'])"
   ]
  },
  {
   "cell_type": "code",
   "execution_count": 209,
   "id": "b6d8de19",
   "metadata": {},
   "outputs": [
    {
     "data": {
      "text/plain": [
       "array(['3.75', '1', '2.25', '2.75', '4.75', '4', '0.25', '2.5', '5',\n",
       "       '4.25', '4.5', '3.5', 'Unrated', '1.5', '3.25', '2', '0', '3',\n",
       "       '0.5', '4.00', '5.0', '3.50', '3.8', '4.3', '2.3', '5.00', '3.3',\n",
       "       '4.0', '3.00', '1.75', '3.0', '4.50', '0.75', '1.25', '1.1', '2.1',\n",
       "       '0.9', '3.1', '4.125', '3.125', '2.125', '2.9', '0.1', '2.8',\n",
       "       '3.7', '3.4', '3.6', '2.85', '3.2', '3.65', '1.8'], dtype=object)"
      ]
     },
     "execution_count": 209,
     "metadata": {},
     "output_type": "execute_result"
    }
   ],
   "source": [
    "df['Stars'].unique()"
   ]
  },
  {
   "cell_type": "code",
   "execution_count": 210,
   "id": "43f3b371",
   "metadata": {},
   "outputs": [],
   "source": [
    "df['Stars']= df['Stars'].replace(['Unrated'],[0])"
   ]
  },
  {
   "cell_type": "code",
   "execution_count": 211,
   "id": "4002c790",
   "metadata": {},
   "outputs": [
    {
     "data": {
      "text/plain": [
       "array(['3.75', '1', '2.25', '2.75', '4.75', '4', '0.25', '2.5', '5',\n",
       "       '4.25', '4.5', '3.5', 0, '1.5', '3.25', '2', '0', '3', '0.5',\n",
       "       '4.00', '5.0', '3.50', '3.8', '4.3', '2.3', '5.00', '3.3', '4.0',\n",
       "       '3.00', '1.75', '3.0', '4.50', '0.75', '1.25', '1.1', '2.1', '0.9',\n",
       "       '3.1', '4.125', '3.125', '2.125', '2.9', '0.1', '2.8', '3.7',\n",
       "       '3.4', '3.6', '2.85', '3.2', '3.65', '1.8'], dtype=object)"
      ]
     },
     "execution_count": 211,
     "metadata": {},
     "output_type": "execute_result"
    }
   ],
   "source": [
    "df['Stars'].unique()"
   ]
  },
  {
   "cell_type": "code",
   "execution_count": 212,
   "id": "114445f4",
   "metadata": {},
   "outputs": [
    {
     "data": {
      "text/html": [
       "<div>\n",
       "<style scoped>\n",
       "    .dataframe tbody tr th:only-of-type {\n",
       "        vertical-align: middle;\n",
       "    }\n",
       "\n",
       "    .dataframe tbody tr th {\n",
       "        vertical-align: top;\n",
       "    }\n",
       "\n",
       "    .dataframe thead th {\n",
       "        text-align: right;\n",
       "    }\n",
       "</style>\n",
       "<table border=\"1\" class=\"dataframe\">\n",
       "  <thead>\n",
       "    <tr style=\"text-align: right;\">\n",
       "      <th></th>\n",
       "      <th>Brand</th>\n",
       "      <th>Style</th>\n",
       "      <th>Country</th>\n",
       "      <th>Stars</th>\n",
       "    </tr>\n",
       "  </thead>\n",
       "  <tbody>\n",
       "    <tr>\n",
       "      <th>0</th>\n",
       "      <td>1</td>\n",
       "      <td>1</td>\n",
       "      <td>1</td>\n",
       "      <td>3.75</td>\n",
       "    </tr>\n",
       "    <tr>\n",
       "      <th>1</th>\n",
       "      <td>2</td>\n",
       "      <td>2</td>\n",
       "      <td>2</td>\n",
       "      <td>1</td>\n",
       "    </tr>\n",
       "    <tr>\n",
       "      <th>2</th>\n",
       "      <td>3</td>\n",
       "      <td>1</td>\n",
       "      <td>3</td>\n",
       "      <td>2.25</td>\n",
       "    </tr>\n",
       "    <tr>\n",
       "      <th>3</th>\n",
       "      <td>4</td>\n",
       "      <td>2</td>\n",
       "      <td>2</td>\n",
       "      <td>2.75</td>\n",
       "    </tr>\n",
       "    <tr>\n",
       "      <th>4</th>\n",
       "      <td>5</td>\n",
       "      <td>2</td>\n",
       "      <td>4</td>\n",
       "      <td>3.75</td>\n",
       "    </tr>\n",
       "  </tbody>\n",
       "</table>\n",
       "</div>"
      ],
      "text/plain": [
       "   Brand  Style  Country Stars\n",
       "0      1      1        1  3.75\n",
       "1      2      2        2     1\n",
       "2      3      1        3  2.25\n",
       "3      4      2        2  2.75\n",
       "4      5      2        4  3.75"
      ]
     },
     "execution_count": 212,
     "metadata": {},
     "output_type": "execute_result"
    }
   ],
   "source": [
    "dfr= df.drop(['Review #','Top Ten', 'Variety'], axis=1)\n",
    "dfr.head()"
   ]
  },
  {
   "cell_type": "code",
   "execution_count": 213,
   "id": "4688c3fe",
   "metadata": {},
   "outputs": [
    {
     "data": {
      "text/plain": [
       "Brand      0\n",
       "Style      0\n",
       "Country    0\n",
       "Stars      0\n",
       "dtype: int64"
      ]
     },
     "execution_count": 213,
     "metadata": {},
     "output_type": "execute_result"
    }
   ],
   "source": [
    "dfr.isna().sum()"
   ]
  },
  {
   "cell_type": "code",
   "execution_count": 214,
   "id": "046cb3fc",
   "metadata": {},
   "outputs": [
    {
     "data": {
      "text/html": [
       "<div>\n",
       "<style scoped>\n",
       "    .dataframe tbody tr th:only-of-type {\n",
       "        vertical-align: middle;\n",
       "    }\n",
       "\n",
       "    .dataframe tbody tr th {\n",
       "        vertical-align: top;\n",
       "    }\n",
       "\n",
       "    .dataframe thead th {\n",
       "        text-align: right;\n",
       "    }\n",
       "</style>\n",
       "<table border=\"1\" class=\"dataframe\">\n",
       "  <thead>\n",
       "    <tr style=\"text-align: right;\">\n",
       "      <th></th>\n",
       "      <th>Brand</th>\n",
       "      <th>Style</th>\n",
       "      <th>Country</th>\n",
       "    </tr>\n",
       "    <tr>\n",
       "      <th>Stars</th>\n",
       "      <th></th>\n",
       "      <th></th>\n",
       "      <th></th>\n",
       "    </tr>\n",
       "  </thead>\n",
       "  <tbody>\n",
       "    <tr>\n",
       "      <th>0</th>\n",
       "      <td>77.666667</td>\n",
       "      <td>2.000000</td>\n",
       "      <td>7.000000</td>\n",
       "    </tr>\n",
       "    <tr>\n",
       "      <th>0</th>\n",
       "      <td>145.500000</td>\n",
       "      <td>2.346154</td>\n",
       "      <td>9.230769</td>\n",
       "    </tr>\n",
       "    <tr>\n",
       "      <th>0.1</th>\n",
       "      <td>150.000000</td>\n",
       "      <td>2.000000</td>\n",
       "      <td>7.000000</td>\n",
       "    </tr>\n",
       "    <tr>\n",
       "      <th>0.25</th>\n",
       "      <td>166.727273</td>\n",
       "      <td>2.181818</td>\n",
       "      <td>11.272727</td>\n",
       "    </tr>\n",
       "    <tr>\n",
       "      <th>0.5</th>\n",
       "      <td>192.214286</td>\n",
       "      <td>2.357143</td>\n",
       "      <td>15.714286</td>\n",
       "    </tr>\n",
       "    <tr>\n",
       "      <th>0.75</th>\n",
       "      <td>132.000000</td>\n",
       "      <td>2.000000</td>\n",
       "      <td>1.000000</td>\n",
       "    </tr>\n",
       "    <tr>\n",
       "      <th>0.9</th>\n",
       "      <td>71.000000</td>\n",
       "      <td>2.000000</td>\n",
       "      <td>7.000000</td>\n",
       "    </tr>\n",
       "    <tr>\n",
       "      <th>1</th>\n",
       "      <td>121.961538</td>\n",
       "      <td>2.115385</td>\n",
       "      <td>9.384615</td>\n",
       "    </tr>\n",
       "    <tr>\n",
       "      <th>1.1</th>\n",
       "      <td>20.000000</td>\n",
       "      <td>2.000000</td>\n",
       "      <td>5.000000</td>\n",
       "    </tr>\n",
       "    <tr>\n",
       "      <th>1.25</th>\n",
       "      <td>145.500000</td>\n",
       "      <td>3.200000</td>\n",
       "      <td>6.200000</td>\n",
       "    </tr>\n",
       "    <tr>\n",
       "      <th>1.5</th>\n",
       "      <td>170.702703</td>\n",
       "      <td>2.162162</td>\n",
       "      <td>11.027027</td>\n",
       "    </tr>\n",
       "    <tr>\n",
       "      <th>1.75</th>\n",
       "      <td>155.777778</td>\n",
       "      <td>2.296296</td>\n",
       "      <td>10.481481</td>\n",
       "    </tr>\n",
       "    <tr>\n",
       "      <th>1.8</th>\n",
       "      <td>307.000000</td>\n",
       "      <td>2.000000</td>\n",
       "      <td>5.000000</td>\n",
       "    </tr>\n",
       "    <tr>\n",
       "      <th>2</th>\n",
       "      <td>135.058824</td>\n",
       "      <td>2.279412</td>\n",
       "      <td>9.602941</td>\n",
       "    </tr>\n",
       "    <tr>\n",
       "      <th>2.1</th>\n",
       "      <td>319.000000</td>\n",
       "      <td>2.000000</td>\n",
       "      <td>2.000000</td>\n",
       "    </tr>\n",
       "    <tr>\n",
       "      <th>2.125</th>\n",
       "      <td>3.000000</td>\n",
       "      <td>1.000000</td>\n",
       "      <td>3.000000</td>\n",
       "    </tr>\n",
       "    <tr>\n",
       "      <th>2.25</th>\n",
       "      <td>171.333333</td>\n",
       "      <td>2.095238</td>\n",
       "      <td>8.476190</td>\n",
       "    </tr>\n",
       "    <tr>\n",
       "      <th>2.3</th>\n",
       "      <td>187.500000</td>\n",
       "      <td>2.000000</td>\n",
       "      <td>10.500000</td>\n",
       "    </tr>\n",
       "    <tr>\n",
       "      <th>2.5</th>\n",
       "      <td>149.164179</td>\n",
       "      <td>2.223881</td>\n",
       "      <td>8.223881</td>\n",
       "    </tr>\n",
       "    <tr>\n",
       "      <th>2.75</th>\n",
       "      <td>127.764706</td>\n",
       "      <td>2.247059</td>\n",
       "      <td>9.764706</td>\n",
       "    </tr>\n",
       "    <tr>\n",
       "      <th>2.8</th>\n",
       "      <td>47.000000</td>\n",
       "      <td>2.000000</td>\n",
       "      <td>7.000000</td>\n",
       "    </tr>\n",
       "    <tr>\n",
       "      <th>2.85</th>\n",
       "      <td>285.000000</td>\n",
       "      <td>2.000000</td>\n",
       "      <td>2.000000</td>\n",
       "    </tr>\n",
       "    <tr>\n",
       "      <th>2.9</th>\n",
       "      <td>171.000000</td>\n",
       "      <td>2.000000</td>\n",
       "      <td>8.000000</td>\n",
       "    </tr>\n",
       "    <tr>\n",
       "      <th>3</th>\n",
       "      <td>112.832370</td>\n",
       "      <td>2.104046</td>\n",
       "      <td>10.335260</td>\n",
       "    </tr>\n",
       "    <tr>\n",
       "      <th>3.0</th>\n",
       "      <td>56.500000</td>\n",
       "      <td>1.000000</td>\n",
       "      <td>4.500000</td>\n",
       "    </tr>\n",
       "    <tr>\n",
       "      <th>3.00</th>\n",
       "      <td>94.000000</td>\n",
       "      <td>2.000000</td>\n",
       "      <td>22.000000</td>\n",
       "    </tr>\n",
       "    <tr>\n",
       "      <th>3.1</th>\n",
       "      <td>150.000000</td>\n",
       "      <td>2.000000</td>\n",
       "      <td>7.000000</td>\n",
       "    </tr>\n",
       "    <tr>\n",
       "      <th>3.125</th>\n",
       "      <td>16.000000</td>\n",
       "      <td>4.000000</td>\n",
       "      <td>5.000000</td>\n",
       "    </tr>\n",
       "    <tr>\n",
       "      <th>3.2</th>\n",
       "      <td>243.000000</td>\n",
       "      <td>2.000000</td>\n",
       "      <td>2.000000</td>\n",
       "    </tr>\n",
       "    <tr>\n",
       "      <th>3.25</th>\n",
       "      <td>137.764706</td>\n",
       "      <td>2.229412</td>\n",
       "      <td>9.382353</td>\n",
       "    </tr>\n",
       "    <tr>\n",
       "      <th>3.3</th>\n",
       "      <td>102.000000</td>\n",
       "      <td>1.000000</td>\n",
       "      <td>25.000000</td>\n",
       "    </tr>\n",
       "    <tr>\n",
       "      <th>3.4</th>\n",
       "      <td>56.000000</td>\n",
       "      <td>2.000000</td>\n",
       "      <td>2.000000</td>\n",
       "    </tr>\n",
       "    <tr>\n",
       "      <th>3.5</th>\n",
       "      <td>107.978528</td>\n",
       "      <td>2.180982</td>\n",
       "      <td>8.877301</td>\n",
       "    </tr>\n",
       "    <tr>\n",
       "      <th>3.50</th>\n",
       "      <td>52.555556</td>\n",
       "      <td>1.777778</td>\n",
       "      <td>11.666667</td>\n",
       "    </tr>\n",
       "    <tr>\n",
       "      <th>3.6</th>\n",
       "      <td>150.000000</td>\n",
       "      <td>2.000000</td>\n",
       "      <td>7.000000</td>\n",
       "    </tr>\n",
       "    <tr>\n",
       "      <th>3.65</th>\n",
       "      <td>285.000000</td>\n",
       "      <td>2.000000</td>\n",
       "      <td>2.000000</td>\n",
       "    </tr>\n",
       "    <tr>\n",
       "      <th>3.7</th>\n",
       "      <td>71.000000</td>\n",
       "      <td>2.000000</td>\n",
       "      <td>7.000000</td>\n",
       "    </tr>\n",
       "    <tr>\n",
       "      <th>3.75</th>\n",
       "      <td>117.171429</td>\n",
       "      <td>2.217143</td>\n",
       "      <td>8.282857</td>\n",
       "    </tr>\n",
       "    <tr>\n",
       "      <th>3.8</th>\n",
       "      <td>31.333333</td>\n",
       "      <td>2.333333</td>\n",
       "      <td>1.333333</td>\n",
       "    </tr>\n",
       "    <tr>\n",
       "      <th>4</th>\n",
       "      <td>86.919271</td>\n",
       "      <td>2.223958</td>\n",
       "      <td>7.903646</td>\n",
       "    </tr>\n",
       "    <tr>\n",
       "      <th>4.0</th>\n",
       "      <td>16.666667</td>\n",
       "      <td>1.666667</td>\n",
       "      <td>4.666667</td>\n",
       "    </tr>\n",
       "    <tr>\n",
       "      <th>4.00</th>\n",
       "      <td>22.500000</td>\n",
       "      <td>1.333333</td>\n",
       "      <td>7.166667</td>\n",
       "    </tr>\n",
       "    <tr>\n",
       "      <th>4.125</th>\n",
       "      <td>21.000000</td>\n",
       "      <td>3.500000</td>\n",
       "      <td>3.000000</td>\n",
       "    </tr>\n",
       "    <tr>\n",
       "      <th>4.25</th>\n",
       "      <td>103.685315</td>\n",
       "      <td>2.440559</td>\n",
       "      <td>6.447552</td>\n",
       "    </tr>\n",
       "    <tr>\n",
       "      <th>4.3</th>\n",
       "      <td>68.500000</td>\n",
       "      <td>2.000000</td>\n",
       "      <td>7.500000</td>\n",
       "    </tr>\n",
       "    <tr>\n",
       "      <th>4.5</th>\n",
       "      <td>104.295455</td>\n",
       "      <td>2.439394</td>\n",
       "      <td>7.431818</td>\n",
       "    </tr>\n",
       "    <tr>\n",
       "      <th>4.50</th>\n",
       "      <td>50.000000</td>\n",
       "      <td>2.666667</td>\n",
       "      <td>5.333333</td>\n",
       "    </tr>\n",
       "    <tr>\n",
       "      <th>4.75</th>\n",
       "      <td>87.859375</td>\n",
       "      <td>2.546875</td>\n",
       "      <td>5.390625</td>\n",
       "    </tr>\n",
       "    <tr>\n",
       "      <th>5</th>\n",
       "      <td>71.582656</td>\n",
       "      <td>2.300813</td>\n",
       "      <td>6.609756</td>\n",
       "    </tr>\n",
       "    <tr>\n",
       "      <th>5.0</th>\n",
       "      <td>33.200000</td>\n",
       "      <td>2.200000</td>\n",
       "      <td>5.000000</td>\n",
       "    </tr>\n",
       "    <tr>\n",
       "      <th>5.00</th>\n",
       "      <td>40.000000</td>\n",
       "      <td>2.142857</td>\n",
       "      <td>8.714286</td>\n",
       "    </tr>\n",
       "  </tbody>\n",
       "</table>\n",
       "</div>"
      ],
      "text/plain": [
       "            Brand     Style    Country\n",
       "Stars                                 \n",
       "0       77.666667  2.000000   7.000000\n",
       "0      145.500000  2.346154   9.230769\n",
       "0.1    150.000000  2.000000   7.000000\n",
       "0.25   166.727273  2.181818  11.272727\n",
       "0.5    192.214286  2.357143  15.714286\n",
       "0.75   132.000000  2.000000   1.000000\n",
       "0.9     71.000000  2.000000   7.000000\n",
       "1      121.961538  2.115385   9.384615\n",
       "1.1     20.000000  2.000000   5.000000\n",
       "1.25   145.500000  3.200000   6.200000\n",
       "1.5    170.702703  2.162162  11.027027\n",
       "1.75   155.777778  2.296296  10.481481\n",
       "1.8    307.000000  2.000000   5.000000\n",
       "2      135.058824  2.279412   9.602941\n",
       "2.1    319.000000  2.000000   2.000000\n",
       "2.125    3.000000  1.000000   3.000000\n",
       "2.25   171.333333  2.095238   8.476190\n",
       "2.3    187.500000  2.000000  10.500000\n",
       "2.5    149.164179  2.223881   8.223881\n",
       "2.75   127.764706  2.247059   9.764706\n",
       "2.8     47.000000  2.000000   7.000000\n",
       "2.85   285.000000  2.000000   2.000000\n",
       "2.9    171.000000  2.000000   8.000000\n",
       "3      112.832370  2.104046  10.335260\n",
       "3.0     56.500000  1.000000   4.500000\n",
       "3.00    94.000000  2.000000  22.000000\n",
       "3.1    150.000000  2.000000   7.000000\n",
       "3.125   16.000000  4.000000   5.000000\n",
       "3.2    243.000000  2.000000   2.000000\n",
       "3.25   137.764706  2.229412   9.382353\n",
       "3.3    102.000000  1.000000  25.000000\n",
       "3.4     56.000000  2.000000   2.000000\n",
       "3.5    107.978528  2.180982   8.877301\n",
       "3.50    52.555556  1.777778  11.666667\n",
       "3.6    150.000000  2.000000   7.000000\n",
       "3.65   285.000000  2.000000   2.000000\n",
       "3.7     71.000000  2.000000   7.000000\n",
       "3.75   117.171429  2.217143   8.282857\n",
       "3.8     31.333333  2.333333   1.333333\n",
       "4       86.919271  2.223958   7.903646\n",
       "4.0     16.666667  1.666667   4.666667\n",
       "4.00    22.500000  1.333333   7.166667\n",
       "4.125   21.000000  3.500000   3.000000\n",
       "4.25   103.685315  2.440559   6.447552\n",
       "4.3     68.500000  2.000000   7.500000\n",
       "4.5    104.295455  2.439394   7.431818\n",
       "4.50    50.000000  2.666667   5.333333\n",
       "4.75    87.859375  2.546875   5.390625\n",
       "5       71.582656  2.300813   6.609756\n",
       "5.0     33.200000  2.200000   5.000000\n",
       "5.00    40.000000  2.142857   8.714286"
      ]
     },
     "execution_count": 214,
     "metadata": {},
     "output_type": "execute_result"
    }
   ],
   "source": [
    "dfr.groupby(by=['Stars']).mean()"
   ]
  },
  {
   "cell_type": "code",
   "execution_count": 215,
   "id": "ea6b8a62",
   "metadata": {},
   "outputs": [
    {
     "name": "stdout",
     "output_type": "stream",
     "text": [
      "<class 'pandas.core.frame.DataFrame'>\n",
      "RangeIndex: 2580 entries, 0 to 2579\n",
      "Data columns (total 4 columns):\n",
      " #   Column   Non-Null Count  Dtype \n",
      "---  ------   --------------  ----- \n",
      " 0   Brand    2580 non-null   int64 \n",
      " 1   Style    2580 non-null   int64 \n",
      " 2   Country  2580 non-null   int64 \n",
      " 3   Stars    2580 non-null   object\n",
      "dtypes: int64(3), object(1)\n",
      "memory usage: 80.8+ KB\n"
     ]
    }
   ],
   "source": [
    "dfr.info()"
   ]
  },
  {
   "cell_type": "code",
   "execution_count": 216,
   "id": "3fca511e",
   "metadata": {},
   "outputs": [],
   "source": [
    "dfr['Stars']= pd.to_numeric(dfr['Stars'], errors= 'coerce')"
   ]
  },
  {
   "cell_type": "code",
   "execution_count": 235,
   "id": "9993ba5d",
   "metadata": {},
   "outputs": [],
   "source": [
    "def starcla(Stars):\n",
    "    if (Stars>=0) and (Stars<=0.5):\n",
    "        return 0\n",
    "    elif (Stars>=0.5) and (Stars<=1.5):\n",
    "        return 1\n",
    "    elif (Stars>=1.5) and (Stars<=2.5):\n",
    "        return 2\n",
    "    elif (Stars>=2.5) and (Stars<=3.5):\n",
    "        return 3\n",
    "    elif (Stars>=3.5) and (Stars<=4.5):\n",
    "        return 4\n",
    "    elif (Stars>=4.5) and (Stars<=5):\n",
    "        return 5"
   ]
  },
  {
   "cell_type": "code",
   "execution_count": 236,
   "id": "f942f1b5",
   "metadata": {},
   "outputs": [],
   "source": [
    "dfr['Stars']= dfr['Stars'].apply(starcla)"
   ]
  },
  {
   "cell_type": "code",
   "execution_count": 237,
   "id": "625d293d",
   "metadata": {},
   "outputs": [
    {
     "name": "stdout",
     "output_type": "stream",
     "text": [
      "<class 'pandas.core.frame.DataFrame'>\n",
      "RangeIndex: 2580 entries, 0 to 2579\n",
      "Data columns (total 4 columns):\n",
      " #   Column   Non-Null Count  Dtype\n",
      "---  ------   --------------  -----\n",
      " 0   Brand    2580 non-null   int64\n",
      " 1   Style    2580 non-null   int64\n",
      " 2   Country  2580 non-null   int64\n",
      " 3   Stars    2580 non-null   int64\n",
      "dtypes: int64(4)\n",
      "memory usage: 80.8 KB\n"
     ]
    }
   ],
   "source": [
    "dfr.info()"
   ]
  },
  {
   "cell_type": "code",
   "execution_count": 238,
   "id": "6d7787f2",
   "metadata": {},
   "outputs": [
    {
     "data": {
      "text/plain": [
       "<AxesSubplot:xlabel='Stars', ylabel='Count'>"
      ]
     },
     "execution_count": 238,
     "metadata": {},
     "output_type": "execute_result"
    },
    {
     "data": {
      "image/png": "[encoded data removed]",
      "text/plain": [
       "<Figure size 432x288 with 1 Axes>"
      ]
     },
     "metadata": {
      "needs_background": "light"
     },
     "output_type": "display_data"
    }
   ],
   "source": [
    "sns.histplot(dfr['Stars'], kde=True)"
   ]
  },
  {
   "cell_type": "code",
   "execution_count": 239,
   "id": "ec7bcdcc",
   "metadata": {},
   "outputs": [
    {
     "data": {
      "image/png": "[encoded data removed]",
      "text/plain": [
       "<Figure size 432x288 with 1 Axes>"
      ]
     },
     "metadata": {
      "needs_background": "light"
     },
     "output_type": "display_data"
    }
   ],
   "source": [
    "te= sns.boxplot(x=dfr['Country'],y=dfr['Stars'] )"
   ]
  },
  {
   "cell_type": "code",
   "execution_count": 240,
   "id": "d4e06121",
   "metadata": {},
   "outputs": [
    {
     "data": {
      "image/png": "[encoded data removed]",
      "text/plain": [
       "<Figure size 540x540 with 12 Axes>"
      ]
     },
     "metadata": {
      "needs_background": "light"
     },
     "output_type": "display_data"
    }
   ],
   "source": [
    "'''\n",
    "Scatter plots\n",
    "'''\n",
    "\n",
    "cols= ['Brand', 'Style','Country', 'Stars']\n",
    "graf=sns.pairplot(df[cols], height=2.5)"
   ]
  },
  {
   "cell_type": "code",
   "execution_count": 241,
   "id": "f09c6ff4",
   "metadata": {},
   "outputs": [
    {
     "data": {
      "image/png": "[encoded data removed]",
      "text/plain": [
       "<Figure size 576x432 with 2 Axes>"
      ]
     },
     "metadata": {
      "needs_background": "light"
     },
     "output_type": "display_data"
    }
   ],
   "source": [
    "corr_matrix= dfr.corr()\n",
    "a, b= plt.subplots(figsize=(8,6))\n",
    "sns.heatmap(corr_matrix, vmin= -1, vmax= 1, square=True, annot=True);"
   ]
  },
  {
   "cell_type": "code",
   "execution_count": 276,
   "id": "fdeb20ec",
   "metadata": {},
   "outputs": [],
   "source": [
    "x= dfr.drop(['Stars'], axis=1)\n",
    "y=dfr['Stars'].to_frame()"
   ]
  },
  {
   "cell_type": "code",
   "execution_count": 277,
   "id": "4b37cf26",
   "metadata": {},
   "outputs": [
    {
     "data": {
      "text/html": [
       "<div>\n",
       "<style scoped>\n",
       "    .dataframe tbody tr th:only-of-type {\n",
       "        vertical-align: middle;\n",
       "    }\n",
       "\n",
       "    .dataframe tbody tr th {\n",
       "        vertical-align: top;\n",
       "    }\n",
       "\n",
       "    .dataframe thead th {\n",
       "        text-align: right;\n",
       "    }\n",
       "</style>\n",
       "<table border=\"1\" class=\"dataframe\">\n",
       "  <thead>\n",
       "    <tr style=\"text-align: right;\">\n",
       "      <th></th>\n",
       "      <th>Brand</th>\n",
       "      <th>Style</th>\n",
       "      <th>Country</th>\n",
       "    </tr>\n",
       "  </thead>\n",
       "  <tbody>\n",
       "    <tr>\n",
       "      <th>0</th>\n",
       "      <td>1</td>\n",
       "      <td>1</td>\n",
       "      <td>1</td>\n",
       "    </tr>\n",
       "    <tr>\n",
       "      <th>1</th>\n",
       "      <td>2</td>\n",
       "      <td>2</td>\n",
       "      <td>2</td>\n",
       "    </tr>\n",
       "    <tr>\n",
       "      <th>2</th>\n",
       "      <td>3</td>\n",
       "      <td>1</td>\n",
       "      <td>3</td>\n",
       "    </tr>\n",
       "    <tr>\n",
       "      <th>3</th>\n",
       "      <td>4</td>\n",
       "      <td>2</td>\n",
       "      <td>2</td>\n",
       "    </tr>\n",
       "    <tr>\n",
       "      <th>4</th>\n",
       "      <td>5</td>\n",
       "      <td>2</td>\n",
       "      <td>4</td>\n",
       "    </tr>\n",
       "  </tbody>\n",
       "</table>\n",
       "</div>"
      ],
      "text/plain": [
       "   Brand  Style  Country\n",
       "0      1      1        1\n",
       "1      2      2        2\n",
       "2      3      1        3\n",
       "3      4      2        2\n",
       "4      5      2        4"
      ]
     },
     "execution_count": 277,
     "metadata": {},
     "output_type": "execute_result"
    }
   ],
   "source": [
    "x.head()"
   ]
  },
  {
   "cell_type": "code",
   "execution_count": 278,
   "id": "3e412c00",
   "metadata": {},
   "outputs": [
    {
     "data": {
      "text/html": [
       "<div>\n",
       "<style scoped>\n",
       "    .dataframe tbody tr th:only-of-type {\n",
       "        vertical-align: middle;\n",
       "    }\n",
       "\n",
       "    .dataframe tbody tr th {\n",
       "        vertical-align: top;\n",
       "    }\n",
       "\n",
       "    .dataframe thead th {\n",
       "        text-align: right;\n",
       "    }\n",
       "</style>\n",
       "<table border=\"1\" class=\"dataframe\">\n",
       "  <thead>\n",
       "    <tr style=\"text-align: right;\">\n",
       "      <th></th>\n",
       "      <th>Stars</th>\n",
       "    </tr>\n",
       "  </thead>\n",
       "  <tbody>\n",
       "    <tr>\n",
       "      <th>0</th>\n",
       "      <td>4</td>\n",
       "    </tr>\n",
       "    <tr>\n",
       "      <th>1</th>\n",
       "      <td>1</td>\n",
       "    </tr>\n",
       "    <tr>\n",
       "      <th>2</th>\n",
       "      <td>2</td>\n",
       "    </tr>\n",
       "    <tr>\n",
       "      <th>3</th>\n",
       "      <td>3</td>\n",
       "    </tr>\n",
       "    <tr>\n",
       "      <th>4</th>\n",
       "      <td>4</td>\n",
       "    </tr>\n",
       "    <tr>\n",
       "      <th>...</th>\n",
       "      <td>...</td>\n",
       "    </tr>\n",
       "    <tr>\n",
       "      <th>2575</th>\n",
       "      <td>3</td>\n",
       "    </tr>\n",
       "    <tr>\n",
       "      <th>2576</th>\n",
       "      <td>1</td>\n",
       "    </tr>\n",
       "    <tr>\n",
       "      <th>2577</th>\n",
       "      <td>2</td>\n",
       "    </tr>\n",
       "    <tr>\n",
       "      <th>2578</th>\n",
       "      <td>2</td>\n",
       "    </tr>\n",
       "    <tr>\n",
       "      <th>2579</th>\n",
       "      <td>0</td>\n",
       "    </tr>\n",
       "  </tbody>\n",
       "</table>\n",
       "<p>2580 rows × 1 columns</p>\n",
       "</div>"
      ],
      "text/plain": [
       "      Stars\n",
       "0         4\n",
       "1         1\n",
       "2         2\n",
       "3         3\n",
       "4         4\n",
       "...     ...\n",
       "2575      3\n",
       "2576      1\n",
       "2577      2\n",
       "2578      2\n",
       "2579      0\n",
       "\n",
       "[2580 rows x 1 columns]"
      ]
     },
     "execution_count": 278,
     "metadata": {},
     "output_type": "execute_result"
    }
   ],
   "source": [
    "y"
   ]
  },
  {
   "cell_type": "raw",
   "id": "cfc4bd9e",
   "metadata": {},
   "source": [
    "After Exploration and Preparation we will start implementation of our models to train and test our data for solve the ramen rating classification problem."
   ]
  },
  {
   "cell_type": "markdown",
   "id": "5f5ff1a9",
   "metadata": {},
   "source": [
    "# First Model Logistic Regression"
   ]
  },
  {
   "cell_type": "code",
   "execution_count": 287,
   "id": "fea69572",
   "metadata": {},
   "outputs": [],
   "source": [
    "scalerx= preprocessing.StandardScaler().fit(x)\n",
    "x_scaled= scalerx.transform(x)\n",
    "scalery= preprocessing.StandardScaler().fit(y)\n",
    "y_scaled= scalery.transform(y)"
   ]
  },
  {
   "cell_type": "code",
   "execution_count": 291,
   "id": "e7695770",
   "metadata": {},
   "outputs": [],
   "source": [
    "x_train, x_test, y_train, y_test= train_test_split(x_scaled,y, test_size= 0.30, random_state= 2021)"
   ]
  },
  {
   "cell_type": "code",
   "execution_count": 292,
   "id": "cc0d3b0d",
   "metadata": {},
   "outputs": [
    {
     "name": "stderr",
     "output_type": "stream",
     "text": [
      "C:\\Users\\hp\\anaconda3\\lib\\site-packages\\sklearn\\utils\\validation.py:63: DataConversionWarning: A column-vector y was passed when a 1d array was expected. Please change the shape of y to (n_samples, ), for example using ravel().\n",
      "  return f(*args, **kwargs)\n"
     ]
    },
    {
     "data": {
      "text/plain": [
       "LogisticRegression(max_iter=1000)"
      ]
     },
     "execution_count": 292,
     "metadata": {},
     "output_type": "execute_result"
    }
   ],
   "source": [
    "#logmodel= LogisticRegression(solver= 'lbfgs', max_iter=1000)\n",
    "logmodel= LogisticRegression(solver= 'lbfgs', max_iter=1000)\n",
    "logmodel.fit(x_train, y_train)"
   ]
  },
  {
   "cell_type": "code",
   "execution_count": 293,
   "id": "d617aabc",
   "metadata": {},
   "outputs": [],
   "source": [
    "predictions= logmodel.predict(x_test)"
   ]
  },
  {
   "cell_type": "code",
   "execution_count": 294,
   "id": "fa0aed1a",
   "metadata": {},
   "outputs": [
    {
     "name": "stdout",
     "output_type": "stream",
     "text": [
      "              precision    recall  f1-score   support\n",
      "\n",
      "           0       0.00      0.00      0.00        14\n",
      "           1       0.00      0.00      0.00        24\n",
      "           2       0.00      0.00      0.00        50\n",
      "           3       0.38      0.20      0.26       218\n",
      "           4       0.42      0.88      0.57       317\n",
      "           5       0.00      0.00      0.00       151\n",
      "\n",
      "    accuracy                           0.41       774\n",
      "   macro avg       0.13      0.18      0.14       774\n",
      "weighted avg       0.28      0.41      0.31       774\n",
      "\n"
     ]
    },
    {
     "name": "stderr",
     "output_type": "stream",
     "text": [
      "C:\\Users\\hp\\anaconda3\\lib\\site-packages\\sklearn\\metrics\\_classification.py:1248: UndefinedMetricWarning: Precision and F-score are ill-defined and being set to 0.0 in labels with no predicted samples. Use `zero_division` parameter to control this behavior.\n",
      "  _warn_prf(average, modifier, msg_start, len(result))\n",
      "C:\\Users\\hp\\anaconda3\\lib\\site-packages\\sklearn\\metrics\\_classification.py:1248: UndefinedMetricWarning: Precision and F-score are ill-defined and being set to 0.0 in labels with no predicted samples. Use `zero_division` parameter to control this behavior.\n",
      "  _warn_prf(average, modifier, msg_start, len(result))\n",
      "C:\\Users\\hp\\anaconda3\\lib\\site-packages\\sklearn\\metrics\\_classification.py:1248: UndefinedMetricWarning: Precision and F-score are ill-defined and being set to 0.0 in labels with no predicted samples. Use `zero_division` parameter to control this behavior.\n",
      "  _warn_prf(average, modifier, msg_start, len(result))\n"
     ]
    }
   ],
   "source": [
    "print(classification_report(y_test, predictions))"
   ]
  },
  {
   "cell_type": "code",
   "execution_count": 295,
   "id": "a7be73ab",
   "metadata": {
    "scrolled": true
   },
   "outputs": [
    {
     "data": {
      "image/png": "[encoded data removed]",
      "text/plain": [
       "<Figure size 432x288 with 2 Axes>"
      ]
     },
     "metadata": {
      "needs_background": "light"
     },
     "output_type": "display_data"
    }
   ],
   "source": [
    "plot_confusion_matrix(logmodel, x_test, y_test)\n",
    "plt.show()"
   ]
  },
  {
   "cell_type": "markdown",
   "id": "62886a99",
   "metadata": {},
   "source": [
    "# Second Model Decision Tree"
   ]
  },
  {
   "cell_type": "code",
   "execution_count": 296,
   "id": "2508382e",
   "metadata": {},
   "outputs": [
    {
     "name": "stdout",
     "output_type": "stream",
     "text": [
      " The shape of x (2580, 3). x_train has shape (1806, 3) while x_test has shape (774, 3)\n",
      " The shape of y (2580, 1). y_train has shape (1806, 1) while y_test has shape (774, 1)\n"
     ]
    }
   ],
   "source": [
    "x_train, x_test, y_train, y_test= train_test_split(x, y, test_size= 0.30, random_state= 2021)\n",
    "print(\" The shape of x %s. x_train has shape %s while x_test has shape %s\" %(x.shape, x_train.shape, x_test.shape))\n",
    "print(\" The shape of y %s. y_train has shape %s while y_test has shape %s\" %(y.shape, y_train.shape, y_test.shape))"
   ]
  },
  {
   "cell_type": "code",
   "execution_count": 297,
   "id": "8767a2fa",
   "metadata": {},
   "outputs": [
    {
     "data": {
      "text/plain": [
       "DecisionTreeClassifier(random_state=2021)"
      ]
     },
     "execution_count": 297,
     "metadata": {},
     "output_type": "execute_result"
    }
   ],
   "source": [
    "clf= DecisionTreeClassifier(random_state=2021)\n",
    "clf.fit(x_train, y_train)"
   ]
  },
  {
   "cell_type": "code",
   "execution_count": 298,
   "id": "1f4810ac",
   "metadata": {},
   "outputs": [
    {
     "data": {
      "text/plain": [
       "array([4, 3, 5, 3, 3, 4, 4, 4, 4, 1, 4, 4, 0, 2, 5, 0, 5, 4, 4, 5, 3, 5,\n",
       "       5, 2, 3, 4, 3, 3, 1, 5, 4, 5, 4, 5, 4, 4, 4, 3, 3, 3, 2, 3, 4, 4,\n",
       "       5, 3, 4, 2, 4, 5, 4, 2, 4, 4, 3, 3, 0, 4, 3, 3, 4, 3, 3, 4, 5, 4,\n",
       "       4, 4, 4, 4, 4, 4, 1, 3, 5, 3, 3, 4, 4, 4, 3, 3, 3, 4, 4, 3, 4, 3,\n",
       "       2, 4, 4, 4, 3, 3, 4, 3, 4, 4, 3, 3, 4, 4, 3, 5, 4, 3, 3, 3, 3, 3,\n",
       "       4, 1, 2, 4, 4, 4, 3, 3, 4, 4, 4, 3, 1, 3, 5, 3, 3, 5, 4, 5, 3, 5,\n",
       "       3, 3, 3, 3, 4, 4, 4, 3, 4, 3, 4, 4, 2, 3, 4, 3, 4, 2, 3, 4, 3, 4,\n",
       "       4, 4, 4, 3, 5, 5, 3, 4, 4, 4, 5, 3, 5, 4, 3, 3, 3, 4, 5, 4, 1, 4,\n",
       "       3, 4, 4, 5, 3, 5, 4, 1, 3, 5, 4, 4, 3, 4, 4, 4, 3, 4, 4, 4, 3, 2,\n",
       "       3, 1, 3, 4, 3, 4, 0, 5, 5, 3, 4, 1, 3, 4, 4, 5, 4, 3, 2, 4, 4, 4,\n",
       "       4, 4, 4, 4, 0, 4, 3, 3, 3, 3, 3, 3, 4, 2, 4, 3, 4, 4, 3, 3, 4, 1,\n",
       "       3, 4, 4, 3, 5, 4, 4, 3, 2, 4, 4, 5, 0, 4, 4, 3, 0, 3, 3, 4, 5, 5,\n",
       "       3, 4, 3, 4, 4, 3, 4, 4, 0, 4, 4, 3, 4, 5, 4, 4, 5, 5, 4, 4, 3, 3,\n",
       "       4, 3, 4, 4, 3, 3, 5, 4, 4, 4, 4, 3, 4, 3, 3, 4, 5, 5, 5, 3, 5, 3,\n",
       "       3, 4, 3, 3, 3, 3, 3, 3, 0, 5, 4, 4, 5, 3, 2, 4, 4, 4, 3, 3, 4, 3,\n",
       "       4, 4, 4, 4, 3, 4, 4, 3, 4, 3, 3, 4, 5, 3, 5, 3, 3, 4, 4, 3, 4, 5,\n",
       "       3, 3, 3, 4, 3, 3, 4, 2, 5, 4, 3, 5, 3, 3, 3, 3, 4, 3, 4, 4, 3, 3,\n",
       "       4, 3, 3, 3, 3, 3, 4, 3, 4, 4, 4, 4, 4, 2, 5, 3, 4, 4, 5, 5, 4, 4,\n",
       "       4, 4, 4, 4, 4, 4, 3, 2, 4, 3, 4, 4, 4, 3, 3, 3, 2, 3, 4, 5, 3, 4,\n",
       "       4, 4, 4, 5, 3, 0, 4, 4, 2, 3, 3, 5, 4, 3, 4, 3, 3, 3, 4, 4, 3, 4,\n",
       "       1, 3, 5, 2, 4, 4, 3, 3, 4, 4, 4, 3, 4, 4, 3, 3, 4, 4, 1, 4, 3, 4,\n",
       "       3, 1, 2, 4, 3, 3, 2, 4, 4, 3, 2, 0, 3, 5, 5, 4, 3, 4, 4, 3, 3, 5,\n",
       "       3, 5, 2, 2, 4, 4, 4, 4, 3, 3, 5, 3, 4, 3, 3, 3, 3, 3, 4, 4, 4, 3,\n",
       "       4, 3, 4, 3, 0, 5, 4, 3, 3, 3, 3, 4, 4, 4, 3, 3, 4, 4, 3, 1, 4, 4,\n",
       "       4, 4, 4, 4, 3, 3, 4, 4, 3, 4, 4, 5, 4, 4, 4, 4, 4, 4, 4, 3, 4, 3,\n",
       "       4, 4, 4, 5, 2, 3, 3, 3, 4, 2, 3, 4, 4, 5, 4, 4, 4, 3, 4, 3, 5, 5,\n",
       "       2, 4, 4, 4, 3, 4, 4, 5, 3, 5, 3, 2, 3, 5, 4, 3, 4, 4, 4, 4, 3, 3,\n",
       "       3, 2, 2, 4, 3, 3, 4, 3, 3, 3, 3, 5, 4, 4, 3, 5, 4, 4, 3, 3, 4, 5,\n",
       "       4, 0, 4, 3, 4, 3, 5, 4, 3, 4, 3, 3, 3, 3, 4, 3, 3, 4, 3, 3, 3, 3,\n",
       "       4, 3, 4, 4, 4, 4, 2, 5, 3, 3, 2, 5, 4, 3, 3, 3, 4, 4, 2, 4, 4, 3,\n",
       "       3, 3, 3, 3, 5, 3, 5, 3, 3, 4, 4, 2, 4, 4, 3, 4, 3, 4, 5, 3, 4, 4,\n",
       "       4, 4, 3, 4, 3, 4, 4, 5, 4, 4, 3, 4, 3, 4, 2, 4, 5, 4, 5, 4, 5, 3,\n",
       "       2, 3, 4, 4, 3, 4, 4, 4, 4, 4, 3, 0, 4, 4, 3, 5, 3, 4, 0, 4, 3, 4,\n",
       "       4, 0, 3, 4, 5, 4, 4, 3, 3, 5, 3, 3, 3, 4, 3, 3, 4, 3, 4, 4, 5, 4,\n",
       "       3, 5, 5, 2, 3, 3, 3, 3, 4, 4, 3, 4, 4, 3, 3, 3, 2, 4, 4, 2, 3, 5,\n",
       "       4, 3, 3, 3], dtype=int64)"
      ]
     },
     "execution_count": 298,
     "metadata": {},
     "output_type": "execute_result"
    }
   ],
   "source": [
    "predictions = clf.predict(x_test)\n",
    "predictions"
   ]
  },
  {
   "cell_type": "code",
   "execution_count": 299,
   "id": "0859a746",
   "metadata": {},
   "outputs": [
    {
     "data": {
      "text/plain": [
       "array([[  4,   1,   2,   6,   1,   0],\n",
       "       [  2,   1,   2,  14,   4,   1],\n",
       "       [  1,   3,   8,  22,  15,   1],\n",
       "       [  6,   5,   8, 104,  81,  14],\n",
       "       [  2,   4,  16,  96, 166,  33],\n",
       "       [  1,   0,   4,  38,  68,  40]], dtype=int64)"
      ]
     },
     "execution_count": 299,
     "metadata": {},
     "output_type": "execute_result"
    }
   ],
   "source": [
    "confusion_matrix(y_test, predictions)"
   ]
  },
  {
   "cell_type": "code",
   "execution_count": 300,
   "id": "63fcc4c3",
   "metadata": {},
   "outputs": [
    {
     "data": {
      "text/plain": [
       "0.417312661498708"
      ]
     },
     "execution_count": 300,
     "metadata": {},
     "output_type": "execute_result"
    }
   ],
   "source": [
    "accuracy_score(y_test, predictions)"
   ]
  },
  {
   "cell_type": "code",
   "execution_count": 301,
   "id": "3fb8d3d5",
   "metadata": {},
   "outputs": [
    {
     "data": {
      "text/plain": [
       "0.417312661498708"
      ]
     },
     "execution_count": 301,
     "metadata": {},
     "output_type": "execute_result"
    }
   ],
   "source": [
    "precision_score(y_test, predictions, average='micro')"
   ]
  },
  {
   "cell_type": "code",
   "execution_count": 304,
   "id": "e0763d96",
   "metadata": {},
   "outputs": [
    {
     "name": "stderr",
     "output_type": "stream",
     "text": [
      "C:\\Users\\hp\\anaconda3\\lib\\site-packages\\sklearn\\model_selection\\_split.py:666: UserWarning: The least populated class in y has only 55 members, which is less than n_splits=100.\n",
      "  warnings.warn((\"The least populated class in y has only %d\"\n"
     ]
    },
    {
     "name": "stdout",
     "output_type": "stream",
     "text": [
      "[0.30769231 0.38461538 0.30769231 0.23076923 0.5        0.46153846\n",
      " 0.46153846 0.42307692 0.46153846 0.26923077 0.38461538 0.38461538\n",
      " 0.38461538 0.42307692 0.30769231 0.53846154 0.42307692 0.30769231\n",
      " 0.26923077 0.42307692 0.69230769 0.5        0.34615385 0.5\n",
      " 0.26923077 0.5        0.46153846 0.19230769 0.26923077 0.23076923\n",
      " 0.34615385 0.30769231 0.30769231 0.34615385 0.5        0.34615385\n",
      " 0.38461538 0.30769231 0.34615385 0.38461538 0.38461538 0.30769231\n",
      " 0.53846154 0.53846154 0.53846154 0.5        0.30769231 0.5\n",
      " 0.26923077 0.46153846 0.65384615 0.53846154 0.46153846 0.38461538\n",
      " 0.46153846 0.26923077 0.46153846 0.5        0.30769231 0.46153846\n",
      " 0.53846154 0.5        0.53846154 0.5        0.30769231 0.5\n",
      " 0.38461538 0.42307692 0.34615385 0.42307692 0.30769231 0.46153846\n",
      " 0.5        0.46153846 0.34615385 0.46153846 0.46153846 0.46153846\n",
      " 0.38461538 0.30769231 0.36       0.4        0.48       0.4\n",
      " 0.52       0.24       0.48       0.52       0.4        0.24\n",
      " 0.2        0.4        0.24       0.4        0.44       0.52\n",
      " 0.32       0.16       0.36       0.4       ]\n",
      "Result: 0.40 accuracy of standard deviation of  0.10\n"
     ]
    }
   ],
   "source": [
    "scores = cross_val_score(clf, x, y, cv=100)\n",
    "print(scores)\n",
    "print(\"Result: %0.2f accuracy of standard deviation of % 0.2f\" %(scores.mean(), scores.std()))"
   ]
  },
  {
   "cell_type": "code",
   "execution_count": null,
   "id": "b9365e0a",
   "metadata": {},
   "outputs": [],
   "source": []
  },
  {
   "cell_type": "code",
   "execution_count": 119,
   "id": "41c5d253",
   "metadata": {},
   "outputs": [],
   "source": []
  },
  {
   "cell_type": "code",
   "execution_count": null,
   "id": "8f8ab32f",
   "metadata": {},
   "outputs": [],
   "source": []
  },
  {
   "cell_type": "code",
   "execution_count": null,
   "id": "6d9a0a8f",
   "metadata": {},
   "outputs": [],
   "source": []
  },
  {
   "cell_type": "code",
   "execution_count": null,
   "id": "59ae8a04",
   "metadata": {},
   "outputs": [],
   "source": []
  },
  {
   "cell_type": "code",
   "execution_count": null,
   "id": "8f367528",
   "metadata": {},
   "outputs": [],
   "source": [
    "\n"
   ]
  },
  {
   "cell_type": "code",
   "execution_count": null,
   "id": "ede8b298",
   "metadata": {},
   "outputs": [],
   "source": []
  },
  {
   "cell_type": "code",
   "execution_count": null,
   "id": "52d437b0",
   "metadata": {},
   "outputs": [],
   "source": []
  },
  {
   "cell_type": "code",
   "execution_count": null,
   "id": "46641a90",
   "metadata": {},
   "outputs": [],
   "source": []
  },
  {
   "cell_type": "code",
   "execution_count": null,
   "id": "a6c5c48b",
   "metadata": {},
   "outputs": [],
   "source": []
  },
  {
   "cell_type": "code",
   "execution_count": null,
   "id": "373671cd",
   "metadata": {},
   "outputs": [],
   "source": []
  },
  {
   "cell_type": "code",
   "execution_count": null,
   "id": "574af963",
   "metadata": {},
   "outputs": [],
   "source": []
  },
  {
   "cell_type": "code",
   "execution_count": null,
   "id": "468ea79a",
   "metadata": {},
   "outputs": [],
   "source": []
  }
 ],
 "metadata": {
  "kernelspec": {
   "display_name": "Python 3 (ipykernel)",
   "language": "python",
   "name": "python3"
  },
  "language_info": {
   "codemirror_mode": {
    "name": "ipython",
    "version": 3
   },
   "file_extension": ".py",
   "mimetype": "text/x-python",
   "name": "python",
   "nbconvert_exporter": "python",
   "pygments_lexer": "ipython3",
   "version": "3.9.7"
  }
 },
 "nbformat": 4,
 "nbformat_minor": 5
}
